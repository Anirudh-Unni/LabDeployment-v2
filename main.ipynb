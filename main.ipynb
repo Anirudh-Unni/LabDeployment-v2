{
 "cells": [
  {
   "cell_type": "code",
   "execution_count": null,
   "id": "847486b7",
   "metadata": {},
   "outputs": [],
   "source": [
    "### This is a deployment test."
   ]
  },
  {
   "cell_type": "code",
   "execution_count": null,
   "id": "7943df29",
   "metadata": {},
   "outputs": [],
   "source": [
    "print(\"This is a deployment practice\")"
   ]
  }
 ],
 "metadata": {
  "kernelspec": {
   "display_name": "DT",
   "language": "python",
   "name": "python3"
  },
  "language_info": {
   "name": "python",
   "version": "3.13.5"
  }
 },
 "nbformat": 4,
 "nbformat_minor": 5
}
