{
 "cells": [
  {
   "cell_type": "code",
   "execution_count": null,
   "id": "8cd4d494",
   "metadata": {},
   "outputs": [],
   "source": [
    "import pandas as pd\n",
    "print"
   ]
  }
 ],
 "metadata": {
  "language_info": {
   "name": "python"
  }
 },
 "nbformat": 4,
 "nbformat_minor": 5
}
